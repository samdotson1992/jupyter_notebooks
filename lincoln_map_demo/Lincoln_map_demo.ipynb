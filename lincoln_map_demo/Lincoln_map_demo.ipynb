{
 "cells": [
  {
   "cell_type": "markdown",
   "metadata": {},
   "source": [
    "# Exploratory analysis with Geopandas"
   ]
  },
  {
   "cell_type": "markdown",
   "metadata": {},
   "source": [
    "As with almost anything in Python, we'll need to import some libraries.  "
   ]
  },
  {
   "cell_type": "code",
   "execution_count": 1,
   "metadata": {
    "collapsed": true
   },
   "outputs": [],
   "source": [
    "import os\n",
    "import numpy as np\n",
    "import matplotlib\n",
    "import matplotlib.pyplot as plt\n",
    "import pandas as pd\n",
    "import geopandas as gp\n",
    "import pyproj\n",
    "import folium\n",
    "from ipywidgets import widgets\n",
    "from __future__ import print_function\n",
    "from ipywidgets import interact, interactive, fixed, interact_manual"
   ]
  },
  {
   "cell_type": "markdown",
   "metadata": {},
   "source": [
    "First we'll need to get our data, which is super easy with Geopandas. In one line of code we can import a Shapefile, GeoJSON and several others. For more information please vist the [Geopandas](http://geopandas.org) main site. "
   ]
  },
  {
   "cell_type": "code",
   "execution_count": 2,
   "metadata": {},
   "outputs": [
    {
     "data": {
      "text/html": [
       "<div>\n",
       "<style>\n",
       "    .dataframe thead tr:only-child th {\n",
       "        text-align: right;\n",
       "    }\n",
       "\n",
       "    .dataframe thead th {\n",
       "        text-align: left;\n",
       "    }\n",
       "\n",
       "    .dataframe tbody tr th {\n",
       "        vertical-align: top;\n",
       "    }\n",
       "</style>\n",
       "<table border=\"1\" class=\"dataframe\">\n",
       "  <thead>\n",
       "    <tr style=\"text-align: right;\">\n",
       "      <th></th>\n",
       "      <th>STATEFP10</th>\n",
       "      <th>COUNTYFP10</th>\n",
       "      <th>TRACTCE10</th>\n",
       "      <th>BLKGRPCE10</th>\n",
       "      <th>GEOID10</th>\n",
       "      <th>NAMELSAD10</th>\n",
       "      <th>MTFCC10</th>\n",
       "      <th>FUNCSTAT10</th>\n",
       "      <th>ALAND10</th>\n",
       "      <th>AWATER10</th>\n",
       "      <th>...</th>\n",
       "      <th>OV250K2999</th>\n",
       "      <th>OV300K3999</th>\n",
       "      <th>OV400K4999</th>\n",
       "      <th>OV500K7499</th>\n",
       "      <th>OV750K9999</th>\n",
       "      <th>OV1MillUp</th>\n",
       "      <th>MedValHous</th>\n",
       "      <th>Shape_Le_1</th>\n",
       "      <th>Shape_Area</th>\n",
       "      <th>geometry</th>\n",
       "    </tr>\n",
       "  </thead>\n",
       "  <tbody>\n",
       "    <tr>\n",
       "      <th>0</th>\n",
       "      <td>31</td>\n",
       "      <td>109</td>\n",
       "      <td>003002</td>\n",
       "      <td>1</td>\n",
       "      <td>311090030021</td>\n",
       "      <td>Block Group 1</td>\n",
       "      <td>G5030</td>\n",
       "      <td>S</td>\n",
       "      <td>625990.0</td>\n",
       "      <td>0.0</td>\n",
       "      <td>...</td>\n",
       "      <td>0.0</td>\n",
       "      <td>0.0</td>\n",
       "      <td>0.0</td>\n",
       "      <td>0.0</td>\n",
       "      <td>0.0</td>\n",
       "      <td>0.0</td>\n",
       "      <td>123100.0</td>\n",
       "      <td>10154.502977</td>\n",
       "      <td>6.734360e+06</td>\n",
       "      <td>(POLYGON ((2549906.750222221 389043.3978194296...</td>\n",
       "    </tr>\n",
       "    <tr>\n",
       "      <th>1</th>\n",
       "      <td>31</td>\n",
       "      <td>109</td>\n",
       "      <td>000100</td>\n",
       "      <td>1</td>\n",
       "      <td>311090001001</td>\n",
       "      <td>Block Group 1</td>\n",
       "      <td>G5030</td>\n",
       "      <td>S</td>\n",
       "      <td>3464631.0</td>\n",
       "      <td>0.0</td>\n",
       "      <td>...</td>\n",
       "      <td>0.0</td>\n",
       "      <td>9.0</td>\n",
       "      <td>0.0</td>\n",
       "      <td>0.0</td>\n",
       "      <td>0.0</td>\n",
       "      <td>0.0</td>\n",
       "      <td>101100.0</td>\n",
       "      <td>26017.761787</td>\n",
       "      <td>3.727199e+07</td>\n",
       "      <td>(POLYGON ((2576433.38324766 396432.8895947949,...</td>\n",
       "    </tr>\n",
       "    <tr>\n",
       "      <th>2</th>\n",
       "      <td>31</td>\n",
       "      <td>109</td>\n",
       "      <td>010202</td>\n",
       "      <td>1</td>\n",
       "      <td>311090102021</td>\n",
       "      <td>Block Group 1</td>\n",
       "      <td>G5030</td>\n",
       "      <td>S</td>\n",
       "      <td>133753456.0</td>\n",
       "      <td>2659735.0</td>\n",
       "      <td>...</td>\n",
       "      <td>64.0</td>\n",
       "      <td>64.0</td>\n",
       "      <td>9.0</td>\n",
       "      <td>63.0</td>\n",
       "      <td>2.0</td>\n",
       "      <td>4.0</td>\n",
       "      <td>223500.0</td>\n",
       "      <td>206120.656109</td>\n",
       "      <td>1.467521e+09</td>\n",
       "      <td>(POLYGON ((2526566.210097174 380154.5515383796...</td>\n",
       "    </tr>\n",
       "    <tr>\n",
       "      <th>3</th>\n",
       "      <td>31</td>\n",
       "      <td>109</td>\n",
       "      <td>002200</td>\n",
       "      <td>6</td>\n",
       "      <td>311090022006</td>\n",
       "      <td>Block Group 6</td>\n",
       "      <td>G5030</td>\n",
       "      <td>S</td>\n",
       "      <td>305126.0</td>\n",
       "      <td>0.0</td>\n",
       "      <td>...</td>\n",
       "      <td>0.0</td>\n",
       "      <td>0.0</td>\n",
       "      <td>0.0</td>\n",
       "      <td>0.0</td>\n",
       "      <td>0.0</td>\n",
       "      <td>0.0</td>\n",
       "      <td>77400.0</td>\n",
       "      <td>7794.218502</td>\n",
       "      <td>3.282580e+06</td>\n",
       "      <td>(POLYGON ((2552566.554760516 366552.4326609224...</td>\n",
       "    </tr>\n",
       "    <tr>\n",
       "      <th>4</th>\n",
       "      <td>31</td>\n",
       "      <td>109</td>\n",
       "      <td>003715</td>\n",
       "      <td>1</td>\n",
       "      <td>311090037151</td>\n",
       "      <td>Block Group 1</td>\n",
       "      <td>G5030</td>\n",
       "      <td>S</td>\n",
       "      <td>2594575.0</td>\n",
       "      <td>0.0</td>\n",
       "      <td>...</td>\n",
       "      <td>298.0</td>\n",
       "      <td>99.0</td>\n",
       "      <td>30.0</td>\n",
       "      <td>40.0</td>\n",
       "      <td>2.0</td>\n",
       "      <td>3.0</td>\n",
       "      <td>264700.0</td>\n",
       "      <td>21138.556873</td>\n",
       "      <td>2.791358e+07</td>\n",
       "      <td>(POLYGON ((2567001.427869571 343213.0047853467...</td>\n",
       "    </tr>\n",
       "  </tbody>\n",
       "</table>\n",
       "<p>5 rows × 166 columns</p>\n",
       "</div>"
      ],
      "text/plain": [
       "  STATEFP10 COUNTYFP10 TRACTCE10 BLKGRPCE10       GEOID10     NAMELSAD10  \\\n",
       "0        31        109    003002          1  311090030021  Block Group 1   \n",
       "1        31        109    000100          1  311090001001  Block Group 1   \n",
       "2        31        109    010202          1  311090102021  Block Group 1   \n",
       "3        31        109    002200          6  311090022006  Block Group 6   \n",
       "4        31        109    003715          1  311090037151  Block Group 1   \n",
       "\n",
       "  MTFCC10 FUNCSTAT10      ALAND10   AWATER10  \\\n",
       "0   G5030          S     625990.0        0.0   \n",
       "1   G5030          S    3464631.0        0.0   \n",
       "2   G5030          S  133753456.0  2659735.0   \n",
       "3   G5030          S     305126.0        0.0   \n",
       "4   G5030          S    2594575.0        0.0   \n",
       "\n",
       "                         ...                         OV250K2999 OV300K3999  \\\n",
       "0                        ...                                0.0        0.0   \n",
       "1                        ...                                0.0        9.0   \n",
       "2                        ...                               64.0       64.0   \n",
       "3                        ...                                0.0        0.0   \n",
       "4                        ...                              298.0       99.0   \n",
       "\n",
       "   OV400K4999 OV500K7499 OV750K9999  OV1MillUp  MedValHous     Shape_Le_1  \\\n",
       "0         0.0        0.0        0.0        0.0    123100.0   10154.502977   \n",
       "1         0.0        0.0        0.0        0.0    101100.0   26017.761787   \n",
       "2         9.0       63.0        2.0        4.0    223500.0  206120.656109   \n",
       "3         0.0        0.0        0.0        0.0     77400.0    7794.218502   \n",
       "4        30.0       40.0        2.0        3.0    264700.0   21138.556873   \n",
       "\n",
       "     Shape_Area                                           geometry  \n",
       "0  6.734360e+06  (POLYGON ((2549906.750222221 389043.3978194296...  \n",
       "1  3.727199e+07  (POLYGON ((2576433.38324766 396432.8895947949,...  \n",
       "2  1.467521e+09  (POLYGON ((2526566.210097174 380154.5515383796...  \n",
       "3  3.282580e+06  (POLYGON ((2552566.554760516 366552.4326609224...  \n",
       "4  2.791358e+07  (POLYGON ((2567001.427869571 343213.0047853467...  \n",
       "\n",
       "[5 rows x 166 columns]"
      ]
     },
     "execution_count": 2,
     "metadata": {},
     "output_type": "execute_result"
    }
   ],
   "source": [
    "Lincoln_blk_groups = gp.GeoDataFrame.from_file(\"Lincoln_block_groups.geojson\")\n",
    "Lincoln_blk_groups.head()"
   ]
  },
  {
   "cell_type": "markdown",
   "metadata": {},
   "source": [
    "It's important to know what your fields mean, so we'll need to upload some metadata I created."
   ]
  },
  {
   "cell_type": "code",
   "execution_count": 10,
   "metadata": {},
   "outputs": [
    {
     "name": "stdout",
     "output_type": "stream",
     "text": [
      "0    Feature geometry.\n",
      "1      State FIPS Code\n",
      "2     County FIPS Code\n",
      "3    Census Tract Code\n",
      "4     Block Group Code\n",
      "Name: label, dtype: object\n"
     ]
    }
   ],
   "source": [
    "labels=pd.read_csv(\"defition.csv\", sep=',')\n",
    "print((labels.iloc[:,1]).head())"
   ]
  },
  {
   "cell_type": "markdown",
   "metadata": {},
   "source": [
    "Next we're going to do some linear regression to see if we can find any interesting patterns. I've left choosing the fields totally up to you, but **be warned** not everything will run or make sense! "
   ]
  },
  {
   "cell_type": "code",
   "execution_count": 11,
   "metadata": {},
   "outputs": [
    {
     "data": {
      "application/vnd.jupyter.widget-view+json": {
       "model_id": "19a96aa436854b8a87701520c4167d4f"
      }
     },
     "metadata": {},
     "output_type": "display_data"
    },
    {
     "data": {
      "text/plain": [
       "<function __main__.f>"
      ]
     },
     "execution_count": 11,
     "metadata": {},
     "output_type": "execute_result"
    }
   ],
   "source": [
    "from sklearn.linear_model import LinearRegression\n",
    "def f(x='Median Age-Total Population', y='Median Value (Dollars)'):\n",
    "    x_abbr = labels.loc[labels['label'] == x , 'abbreviated'].iloc[0]\n",
    "    y_abbr = labels.loc[labels['label'] == y , 'abbreviated'].iloc[0] \n",
    "    x_values= ((Lincoln_blk_groups.iloc[:,Lincoln_blk_groups.columns== x_abbr]).values)\n",
    "    y_values= ((Lincoln_blk_groups.iloc[:,Lincoln_blk_groups.columns== y_abbr]).values)\n",
    "    regressor = LinearRegression()\n",
    "    regressor.fit(x_values, y_values)\n",
    "    fig=plt.figure(figsize=(10, 10), dpi= 80, facecolor='w', edgecolor='k')\n",
    "    plt.scatter(x_values, y_values, color = 'red')\n",
    "    plt.plot(x_values, regressor.predict(x_values), color = 'blue')\n",
    "    plt.title(x + \" versus \" + y +\" in Lincoln, NE\", fontsize=25 )\n",
    "    plt.xlabel(x , fontsize=15)\n",
    "    plt.ylabel( y , fontsize=15)\n",
    "    plt.show()\n",
    "interact(f,x=labels.iloc[:,1], y=labels.iloc[:,1])"
   ]
  },
  {
   "cell_type": "markdown",
   "metadata": {},
   "source": [
    "And lastly we'll create a choropleth map. And as above, choose your fields wisely. "
   ]
  },
  {
   "cell_type": "code",
   "execution_count": 5,
   "metadata": {},
   "outputs": [
    {
     "data": {
      "application/vnd.jupyter.widget-view+json": {
       "model_id": "45d7bb8b17f243d3ac1b986e42807061"
      }
     },
     "metadata": {},
     "output_type": "display_data"
    },
    {
     "data": {
      "text/plain": [
       "<function __main__.f>"
      ]
     },
     "execution_count": 5,
     "metadata": {},
     "output_type": "execute_result"
    }
   ],
   "source": [
    "def f(x='Total Population', y='Total Population-Male'):\n",
    "    f, ax = plt.subplots(1, figsize=(15, 10))\n",
    "    ax.set_title(x +\" divided by \" + y + ' in Lincoln, NE')\n",
    "    denom = labels.loc[labels['label'] == x , 'abbreviated'].iloc[0]\n",
    "    numer = labels.loc[labels['label'] == y , 'abbreviated'].iloc[0] \n",
    "    Lincoln_blk_groups[denom+\" over \"+numer] = ((Lincoln_blk_groups.iloc[:,Lincoln_blk_groups.columns== denom]).values)/((Lincoln_blk_groups.iloc[:,Lincoln_blk_groups.columns== numer ]).values)\n",
    "    Lincoln_blk_groups.plot(denom+\" over \"+numer, scheme='fisher_jenks', k=5, cmap=plt.cm.Blues, legend=True, ax=ax)\n",
    "    ax.set_axis_off()\n",
    "    plt.axis('equal');\n",
    "    plt.show()\n",
    "    del Lincoln_blk_groups[denom+\" over \"+numer] \n",
    "interact(f,x=labels.iloc[:,1], y=labels.iloc[:,1])"
   ]
  }
 ],
 "metadata": {
  "kernelspec": {
   "display_name": "Python 3",
   "language": "python",
   "name": "python3"
  },
  "language_info": {
   "codemirror_mode": {
    "name": "ipython",
    "version": 3
   },
   "file_extension": ".py",
   "mimetype": "text/x-python",
   "name": "python",
   "nbconvert_exporter": "python",
   "pygments_lexer": "ipython3",
   "version": "3.6.3"
  },
  "widgets": {
   "application/vnd.jupyter.widget-state+json": {
    "state": {},
    "version_major": 1,
    "version_minor": 0
   }
  }
 },
 "nbformat": 4,
 "nbformat_minor": 2
}
